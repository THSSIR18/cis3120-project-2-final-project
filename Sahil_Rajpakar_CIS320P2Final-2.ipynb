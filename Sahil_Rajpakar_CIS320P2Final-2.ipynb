{
  "nbformat": 4,
  "nbformat_minor": 0,
  "metadata": {
    "colab": {
      "name": "Sahil Rajpakar - CIS320P2Final",
      "provenance": [],
      "collapsed_sections": []
    },
    "kernelspec": {
      "name": "python3",
      "display_name": "Python 3"
    },
    "language_info": {
      "name": "python"
    }
  },
  "cells": [
    {
      "cell_type": "code",
      "execution_count": 438,
      "metadata": {
        "colab": {
          "base_uri": "https://localhost:8080/"
        },
        "id": "ql12osmlNoAC",
        "outputId": "8a68beb8-ad41-4f61-e578-4a17777ae338"
      },
      "outputs": [
        {
          "output_type": "stream",
          "name": "stdout",
          "text": [
            "Requirement already satisfied: nba_api in /usr/local/lib/python3.7/dist-packages (1.1.11)\n",
            "Requirement already satisfied: requests in /usr/local/lib/python3.7/dist-packages (from nba_api) (2.23.0)\n",
            "Requirement already satisfied: idna<3,>=2.5 in /usr/local/lib/python3.7/dist-packages (from requests->nba_api) (2.10)\n",
            "Requirement already satisfied: chardet<4,>=3.0.2 in /usr/local/lib/python3.7/dist-packages (from requests->nba_api) (3.0.4)\n",
            "Requirement already satisfied: certifi>=2017.4.17 in /usr/local/lib/python3.7/dist-packages (from requests->nba_api) (2021.10.8)\n",
            "Requirement already satisfied: urllib3!=1.25.0,!=1.25.1,<1.26,>=1.21.1 in /usr/local/lib/python3.7/dist-packages (from requests->nba_api) (1.24.3)\n"
          ]
        }
      ],
      "source": [
        "pip install nba_api"
      ]
    },
    {
      "cell_type": "code",
      "source": [
        "#Imported pandas and the reduce method from function's tools\n",
        "import pandas #library for data analysis\n",
        "import requests #library to handle requests\n",
        "from bs4 import BeautifulSoup #library to parse HTML documents\n",
        "from functools import reduce"
      ],
      "metadata": {
        "id": "tzXlrbS6H9bq"
      },
      "execution_count": 439,
      "outputs": []
    },
    {
      "cell_type": "code",
      "source": [
        "wikiurl1 = 'https://en.wikipedia.org/wiki/50_Greatest_Players_in_NBA_History'\n",
        "table_class1 = \"wikitable sortable jquery-tablesorter\"\n",
        "response1 = requests.get(wikiurl1)\n",
        "\n",
        "#parse data from the html into a beautiful object\n",
        "soup1 = BeautifulSoup(response1.text, 'html.parser')\n",
        "nbatable1 = soup1.find('table',{'class':'wikitable sortable'})\n",
        "\n",
        "df1001 = pandas.read_html(str(nbatable1))\n",
        "df1001=pandas.DataFrame(df1001[0])"
      ],
      "metadata": {
        "id": "XqJIaNUJANEy"
      },
      "execution_count": 440,
      "outputs": []
    },
    {
      "cell_type": "code",
      "source": [
        "wikiurl2 = 'https://en.wikipedia.org/wiki/NBA_75th_Anniversary_Team'\n",
        "table_class2 = \"wikitable sortable jquery-tablesorter\"\n",
        "response2 = requests.get(wikiurl2)\n",
        "\n",
        "#parse data from the html into a beautiful object\n",
        "soup2 = BeautifulSoup(response2.text, 'html.parser')\n",
        "nbatable2 = soup2.find('table',{'class':'wikitable sortable plainrowheaders'})\n",
        "\n",
        "df1002 = pandas.read_html(str(nbatable2))\n",
        "df1002=pandas.DataFrame(df1002[0])"
      ],
      "metadata": {
        "id": "RSRPwLL0AN_t"
      },
      "execution_count": 441,
      "outputs": []
    },
    {
      "cell_type": "code",
      "source": [
        "wikiurl3 = 'https://en.wikipedia.org/wiki/List_of_National_Basketball_Association_career_scoring_leaders'\n",
        "table_class3 = \"wikitable sortable jquery-tablesorter\"\n",
        "response3 = requests.get(wikiurl3)\n",
        "\n",
        "#parse data from the html into a beautiful object\n",
        "soup3 = BeautifulSoup(response3.text, 'html.parser')\n",
        "nbatable3 = soup3.find('table',{'class':'wikitable sortable'})\n",
        "\n",
        "df1003 = pandas.read_html(str(nbatable3))\n",
        "df1003=pandas.DataFrame(df1003[0])"
      ],
      "metadata": {
        "id": "g4WKENLeAOD1"
      },
      "execution_count": 442,
      "outputs": []
    },
    {
      "cell_type": "code",
      "source": [
        "# drop the unwanted columns\n",
        "data1001 = df1001.drop([\"Team(s) played for (years)[a]\",  \"Reb\", \"Ast\", 'Championships won[b]', \"MVP won\", 'Finals MVP won', 'All Star','HOF Year', 'Ref.'], axis=1)\n",
        "# rename columns for ease\n",
        "data1001 = data1001.rename(columns={\"Pos\": \"Position\",\"Pts\": \"Points\"})\n",
        "print('Dataset from webpage one with three columns')\n",
        "print(\"\")\n",
        "print(data1001.head().to_string())"
      ],
      "metadata": {
        "colab": {
          "base_uri": "https://localhost:8080/"
        },
        "id": "Qocl1iNCHwyd",
        "outputId": "c4b63801-2205-47aa-a336-77679dad5eff"
      },
      "execution_count": 443,
      "outputs": [
        {
          "output_type": "stream",
          "name": "stdout",
          "text": [
            "Dataset from webpage one with three columns\n",
            "\n",
            "                  Name Position  Points\n",
            "0  Kareem Abdul-Jabbar        C   38387\n",
            "1       Nate Archibald        G   16481\n",
            "2          Paul Arizin        F   16266\n",
            "3      Charles Barkley        F   23757\n",
            "4           Rick Barry        F   18395\n"
          ]
        }
      ]
    },
    {
      "cell_type": "code",
      "source": [
        "# drop the unwanted columns\n",
        "data1002 = df1002.drop([\"Team(s) played for (years)[note 2]\",\"Reb\", \"Ast\",'Championships won[b]', \"MVP won\", 'Finals MVP won', 'All Star', 'All-NBA','HoF Year', 'Ref.'], axis=1)\n",
        "# rename columns for ease\n",
        "data1002 = data1002.rename(columns={\"Name[5]\": \"Name\",\"Pts\": \"Points\",\"Pos\": \"Position\"})\n",
        "print('Dataset from webpage two with three columns')\n",
        "print(\"\")\n",
        "print(data1002.head().to_string())"
      ],
      "metadata": {
        "colab": {
          "base_uri": "https://localhost:8080/"
        },
        "id": "kHZZyXrFHwty",
        "outputId": "ba43382e-ee33-4475-ba8a-f6d262515eb0"
      },
      "execution_count": 444,
      "outputs": [
        {
          "output_type": "stream",
          "name": "stdout",
          "text": [
            "Dataset from webpage two with three columns\n",
            "\n",
            "                    Name Position  Points\n",
            "0    Kareem Abdul-Jabbar        C   38387\n",
            "1              Ray Allen        G   24505\n",
            "2  Giannis Antetokounmpo        F   12319\n",
            "3        Carmelo Anthony        F   27370\n",
            "4         Nate Archibald        G   16481\n"
          ]
        }
      ]
    },
    {
      "cell_type": "code",
      "source": [
        "# drop the unwanted columns\n",
        "data1003 = df1003.drop([\"Team(s) played for (years)[b]\", 'Games played', 'Points per game[c]', 'Field goalsmade', \"Three-pointfield goalsmade[d]\", 'Free throws made'], axis=1)\n",
        "# rename columns for ease\n",
        "data1003 = data1003.rename(columns={\"Player\": \"Name\",\"Total points\": \"Points\",\"Pos\": \"Position\", \"Reb\":\"Rebounds\", \"Ast\":\"Assists\"})\n",
        "print('Dataset from webpage three with three columns')\n",
        "print(\"\")\n",
        "print(data1003.head().to_string())"
      ],
      "metadata": {
        "colab": {
          "base_uri": "https://localhost:8080/"
        },
        "id": "Jt-k0vOxHwWt",
        "outputId": "840da0c5-e827-4fbe-b454-a9cb51cd6092"
      },
      "execution_count": 445,
      "outputs": [
        {
          "output_type": "stream",
          "name": "stdout",
          "text": [
            "Dataset from webpage three with three columns\n",
            "\n",
            "   Rank                  Name Position  Points\n",
            "0     1  Kareem Abdul-Jabbar*        C   38387\n",
            "1     2          Karl Malone*       PF   36928\n",
            "2     3         LeBron James^       SF   35860\n",
            "3     4          Kobe Bryant*       SG   33643\n",
            "4     5       Michael Jordan*       SG   32292\n"
          ]
        }
      ]
    },
    {
      "cell_type": "code",
      "source": [
        "df1000000merge = [data1001, data1002, data1003]\n",
        "df10101 = reduce(lambda  left,right: pandas.merge(left,right,on=['Name'],\n",
        "                                            how='outer'), df1000000merge).fillna('void')\n",
        "\n",
        "print('First best dataset combined from all three webpages')\n",
        "print(\"\")                                            \n",
        "print(df10101.to_string()) #this was the best dataframe I could get for DF1, tried everything to get rid of NaNs but not sure why they aren't going\n",
        "#df10101 is the closest that I could get to what I wanted to be DF1 webscraped                         "
      ],
      "metadata": {
        "colab": {
          "base_uri": "https://localhost:8080/"
        },
        "id": "SueiVmwLNUcN",
        "outputId": "fe23505e-aa53-40f1-d377-858b93114f16"
      },
      "execution_count": 446,
      "outputs": [
        {
          "output_type": "stream",
          "name": "stdout",
          "text": [
            "First best dataset combined from all three webpages\n",
            "\n",
            "                      Name Position_x Points_x Position_y Points_y  Rank Position Points\n",
            "0      Kareem Abdul-Jabbar          C    38387          C    38387  void     void   void\n",
            "1           Nate Archibald          G    16481          G    16481  void     void   void\n",
            "2              Paul Arizin          F    16266          F    16266  void     void   void\n",
            "3          Charles Barkley          F    23757          F    23757  void     void   void\n",
            "4               Rick Barry          F    18395          F    18395  void     void   void\n",
            "5             Elgin Baylor          F    23149          F    23149  void     void   void\n",
            "6                Dave Bing          G    18327          G    18327  void     void   void\n",
            "7               Larry Bird          F    21791          F    21791  void     void   void\n",
            "8         Wilt Chamberlain          C    31419          C    31419  void     void   void\n",
            "9                Bob Cousy          G    16960          G    16960  void     void   void\n",
            "10             Dave Cowens          C    13516          C    13516  void     void   void\n",
            "11        Billy Cunningham          F    13626          F    13626  void     void   void\n",
            "12        Dave DeBusschere          F    14053          F    14053  void     void   void\n",
            "13           Clyde Drexler          G    22195          G    22195  void     void   void\n",
            "14           Julius Erving          F    18364          F    18364  void     void   void\n",
            "15           Patrick Ewing          C    24815          C    24815  void     void   void\n",
            "16            Walt Frazier          G    15581          G    15581  void     void   void\n",
            "17           George Gervin          G    20708          G    20708  void     void   void\n",
            "18               Hal Greer          G    21586          G    21586  void     void   void\n",
            "19           John Havlicek        F/G    26395        F/G    26395  void     void   void\n",
            "20             Elvin Hayes        F/C    27313        F/C    27313  void     void   void\n",
            "21           Magic Johnson          G    17707          G    17707  void     void   void\n",
            "22               Sam Jones          G    15411          G    15411  void     void   void\n",
            "23          Michael Jordan          G    32292          G    32292  void     void   void\n",
            "24             Jerry Lucas          F    14053          F    14053  void     void   void\n",
            "25             Karl Malone          F    36928          F    36928  void     void   void\n",
            "26            Moses Malone          C    27409          C    27409  void     void   void\n",
            "27           Pete Maravich          G    15948          G    15948  void     void   void\n",
            "28            Kevin McHale          F    17335          F    17335  void     void   void\n",
            "29            George Mikan          C    10156          C    10156  void     void   void\n",
            "30             Earl Monroe          G    17454          G    17454  void     void   void\n",
            "31         Hakeem Olajuwon          C    26946          C    26946  void     void   void\n",
            "32        Shaquille O'Neal          C    28596          C    28596  void     void   void\n",
            "33           Robert Parish          C    23334          C    23334  void     void   void\n",
            "34              Bob Pettit          F    20880          F    20880  void     void   void\n",
            "35          Scottie Pippen          F    18940          F    18940  void     void   void\n",
            "36             Willis Reed        C/F    12183        C/F    12183  void     void   void\n",
            "37         Oscar Robertson          G    26710          G    26710  void     void   void\n",
            "38          David Robinson          C    20790          C    20790  void     void   void\n",
            "39            Bill Russell          C    14522          C    14522  void     void   void\n",
            "40           Dolph Schayes          F    18438          F    18438  void     void   void\n",
            "41            Bill Sharman          G    12665          G    12665  void     void   void\n",
            "42           John Stockton          G    19711          G    19711  void     void   void\n",
            "43            Isiah Thomas          G    18822          G    18822  void     void   void\n",
            "44           Nate Thurmond          C    14437          C    14437  void     void   void\n",
            "45              Wes Unseld          C    10624          C    10624  void     void   void\n",
            "46             Bill Walton          C     6215          C     6215  void     void   void\n",
            "47              Jerry West          G    25192          G    25192  void     void   void\n",
            "48           Lenny Wilkens          G    17772          G    17772  void     void   void\n",
            "49            James Worthy          F    16320          F    16320  void     void   void\n",
            "50               Ray Allen       void     void          G    24505  void     void   void\n",
            "51   Giannis Antetokounmpo       void     void          F    12319  void     void   void\n",
            "52         Carmelo Anthony       void     void          F    27370  void     void   void\n",
            "53             Kobe Bryant       void     void          G    33643  void     void   void\n",
            "54           Stephen Curry       void     void          G    18434  void     void   void\n",
            "55           Anthony Davis       void     void        F/C    13463  void     void   void\n",
            "56              Tim Duncan       void     void        F/C    26496  void     void   void\n",
            "57            Kevin Durant       void     void          F    23883  void     void   void\n",
            "58           Kevin Garnett       void     void        F/C    26071  void     void   void\n",
            "59            James Harden       void     void          G    22045  void     void   void\n",
            "60           Allen Iverson       void     void          G    24368  void     void   void\n",
            "61            LeBron James       void     void          F    35367  void     void   void\n",
            "62              Jason Kidd       void     void          G    17529  void     void   void\n",
            "63           Kawhi Leonard       void     void          F    11085  void     void   void\n",
            "64          Damian Lillard       void     void          G    16815  void     void   void\n",
            "65              Bob McAdoo       void     void        F/C    18787  void     void   void\n",
            "66           Reggie Miller       void     void          G    25279  void     void   void\n",
            "67              Steve Nash       void     void          G    17387  void     void   void\n",
            "68           Dirk Nowitzki       void     void          F    31560  void     void   void\n",
            "69              Chris Paul       void     void          G    19978  void     void   void\n",
            "70             Gary Payton       void     void          G    21813  void     void   void\n",
            "71             Paul Pierce       void     void          F    26397  void     void   void\n",
            "72           Dennis Rodman       void     void          F     6683  void     void   void\n",
            "73             Dwyane Wade       void     void          G    23165  void     void   void\n",
            "74       Russell Westbrook       void     void          G    21857  void     void   void\n",
            "75       Dominique Wilkins       void     void          F    26668  void     void   void\n",
            "76    Kareem Abdul-Jabbar*       void     void       void     void     1        C  38387\n",
            "77            Karl Malone*       void     void       void     void     2       PF  36928\n",
            "78           LeBron James^       void     void       void     void     3       SF  35860\n",
            "79            Kobe Bryant*       void     void       void     void     4       SG  33643\n",
            "80         Michael Jordan*       void     void       void     void     5       SG  32292\n",
            "81          Dirk Nowitzki†       void     void       void     void     6     PF/C  31560\n",
            "82       Wilt Chamberlain*       void     void       void     void     7        C  31419\n",
            "83       Shaquille O'Neal*       void     void       void     void     8        C  28596\n",
            "84        Carmelo Anthony^       void     void       void     void     9       SF  27787\n",
            "85           Moses Malone*       void     void       void     void    10        C  27409\n",
            "86            Elvin Hayes*       void     void       void     void    11     PF/C  27313\n",
            "87        Hakeem Olajuwon*       void     void       void     void    12        C  26946\n",
            "88        Oscar Robertson*       void     void       void     void    13       PG  26710\n",
            "89      Dominique Wilkins*       void     void       void     void    14       SF  26668\n",
            "90             Tim Duncan*       void     void       void     void    15     PF/C  26496\n",
            "91            Paul Pierce*       void     void       void     void    16    SF/SG  26397\n",
            "92          John Havlicek*       void     void       void     void    17    SF/SG  26395\n",
            "93          Kevin Garnett*       void     void       void     void    18     PF/C  26071\n",
            "94           Vince Carter†       void     void       void     void    19    SG/SF  25728\n",
            "95           Alex English*       void     void       void     void    20       SF  25613\n",
            "96          Reggie Miller*       void     void       void     void    21       SG  25279\n",
            "97             Jerry West*       void     void       void     void    22    PG/SG  25192\n",
            "98          Patrick Ewing*       void     void       void     void    23        C  24815\n",
            "99           Kevin Durant^       void     void       void     void    24       SF  24686\n",
            "100             Ray Allen*       void     void       void     void    25       SG  24505\n",
            "101         Allen Iverson*       void     void       void     void    26    SG/PG  24368\n",
            "102       Charles Barkley*       void     void       void     void    27       PF  23757\n",
            "103         Robert Parish*       void     void       void     void    28        C  23334\n",
            "104        Adrian Dantley*       void     void       void     void    29       SF  23177\n",
            "105           Dwyane Wade†       void     void       void     void    30       SG  23165\n",
            "106          Elgin Baylor*       void     void       void     void    31       SF  23149\n",
            "107          James Harden^       void     void       void     void    32       SG  22587\n",
            "108     Russell Westbrook^       void     void       void     void    33       PG  22460\n",
            "109         Clyde Drexler*       void     void       void     void    34       SG  22195\n",
            "110           Gary Payton*       void     void       void     void    35       PG  21813\n",
            "111            Larry Bird*       void     void       void     void    36    SF/PF  21791\n",
            "112             Hal Greer*       void     void       void     void    37    SG/PG  21586\n",
            "113          Walt Bellamy*       void     void       void     void    38        C  20941\n",
            "114             Pau Gasol†       void     void       void     void    39     C/PF  20894\n",
            "115            Bob Pettit*       void     void       void     void    40     PF/C  20880\n",
            "116        David Robinson*       void     void       void     void    41        C  20790\n",
            "117         George Gervin*       void     void       void     void    42    SG/SF  20708\n",
            "118        Mitch Richmond*       void     void       void     void    43       SG  20497\n",
            "119           Joe Johnson§       void     void       void     void    44    SG/SF  20405\n",
            "120            Chris Paul^       void     void       void     void    45       PG  20397\n",
            "121     LaMarcus Aldridge^       void     void       void     void    46     PF/C  20300\n",
            "122           Tom Chambers       void     void       void     void    47       PF  20049\n",
            "123         Antawn Jamison       void     void       void     void    48    PF/SF  20042\n",
            "124         John Stockton*       void     void       void     void    49       PG  19711\n",
            "125          Bernard King*       void     void       void     void    50       SF  19655\n"
          ]
        }
      ]
    },
    {
      "cell_type": "code",
      "source": [
        "# note from above and below\n",
        "'''\n",
        "df1001 will return the same thing as df100\n",
        "df1002 will return the same thing as df200\n",
        "df1003 will return the same thing as df300\n",
        "\n",
        "***the only difference is that code above was web scraped using BeautifulSoup while the one below was not***\n",
        "'''"
      ],
      "metadata": {
        "colab": {
          "base_uri": "https://localhost:8080/",
          "height": 64
        },
        "id": "Z9Nlm7pDAORC",
        "outputId": "e34696a0-5ead-4339-a195-7b134c1b5d67"
      },
      "execution_count": 447,
      "outputs": [
        {
          "output_type": "execute_result",
          "data": {
            "application/vnd.google.colaboratory.intrinsic+json": {
              "type": "string"
            },
            "text/plain": [
              "'\\ndf1001 will return the same thing as df100\\ndf1002 will return the same thing as df200\\ndf1003 will return the same thing as df300\\n\\n***the only difference is that code above was web scraped using BeautifulSoup while the one below was not***\\n'"
            ]
          },
          "metadata": {},
          "execution_count": 447
        }
      ]
    },
    {
      "cell_type": "code",
      "source": [
        "#Checking Pandas documentation\n",
        "#help(pandas.read_html)"
      ],
      "metadata": {
        "id": "qPH8ainHNwP0"
      },
      "execution_count": 448,
      "outputs": []
    },
    {
      "cell_type": "code",
      "source": [
        "#Reading three different Wikipedia webpages\n",
        "tables1 = pandas.read_html('https://en.wikipedia.org/wiki/50_Greatest_Players_in_NBA_History')\n",
        "tables2 = pandas.read_html('https://en.wikipedia.org/wiki/NBA_75th_Anniversary_Team')\n",
        "tables3 = pandas.read_html('https://en.wikipedia.org/wiki/List_of_National_Basketball_Association_career_scoring_leaders')\n"
      ],
      "metadata": {
        "id": "BXtGKKQ2OCb3"
      },
      "execution_count": 449,
      "outputs": []
    },
    {
      "cell_type": "code",
      "source": [
        "#Reading three different tables from three different Wikipedia webpages\n",
        "pd1 = pandas.read_html(\"https://en.wikipedia.org/wiki/50_Greatest_Players_in_NBA_History\", match=\"38,387\")\n",
        "pd2 = pandas.read_html(\"https://en.wikipedia.org/wiki/NBA_75th_Anniversary_Team\", match=\"38,387\")\n",
        "pd3 = pandas.read_html(\"https://en.wikipedia.org/wiki/List_of_National_Basketball_Association_career_scoring_leaders\", match=\"1,560\")"
      ],
      "metadata": {
        "id": "DzuqBCdDPWO8"
      },
      "execution_count": 450,
      "outputs": []
    },
    {
      "cell_type": "code",
      "source": [
        "#Converting three tables into three unique dataframes\n",
        "df100 = pd1[0]\n",
        "df200 = pd2[0]\n",
        "df300 = pd3[0]"
      ],
      "metadata": {
        "id": "P7OK2KCbQ3cm"
      },
      "execution_count": 451,
      "outputs": []
    },
    {
      "cell_type": "code",
      "source": [
        "#Displaying each datatframe and changing column names\n",
        "df100 = df100.rename(columns={'Name': 'full_name'})"
      ],
      "metadata": {
        "id": "POZEeIjU5bGT"
      },
      "execution_count": 452,
      "outputs": []
    },
    {
      "cell_type": "code",
      "source": [
        "#Displaying each datatframe and changing column names\n",
        "df200 = df200.rename(columns={'Name[5]': 'full_name'})"
      ],
      "metadata": {
        "id": "l5day_5F5a_w"
      },
      "execution_count": 453,
      "outputs": []
    },
    {
      "cell_type": "code",
      "source": [
        "#Displaying each datatframe and changing column names\n",
        "df300 = df3.rename(columns={'Player': 'full_name'})"
      ],
      "metadata": {
        "id": "0WPUJqjR5a3e"
      },
      "execution_count": 454,
      "outputs": []
    },
    {
      "cell_type": "code",
      "source": [
        "#Merging dataframes on full_name and voiding all NaN values\n",
        "#\"Second Best Data Frame of NBA Players on full_name as DF1:\")\n",
        "df_merged = [df100, df200, df300]\n",
        "df1 = reduce(lambda  left,right: pandas.merge(left,right,on=['full_name'],\n",
        "                                            how='outer'), df_merged).fillna('void')\n",
        "df1.dropna(axis=1, how='all')\n",
        "df1 = df1.drop_duplicates()\n",
        "df1 = df1.drop(['Team(s) played for (years)[a]', 'Reb_x', 'Ast_x', 'Championships won[b]_x', 'MVP won_x', 'Finals MVP won_x', 'All Star_x', 'HOF Year', 'Ref._x', 'Team(s) played for (years)[note 2]', 'Reb_y', 'Ast_y', 'Championships won[b]_y', 'MVP won_y', 'Finals MVP won_y', 'All Star_y','Ref._y','Rank'], axis=1)\n",
        "df1 = df1.drop(['Pos_x','Pts_x','Pos','Team(s) played for (years)[b]','Total points','Games played','Points per game[c]', 'Field goalsmade','Free throws made'],axis = 1)\n",
        "df1 = df1.drop(['Three-pointfield goalsmade[d]'],axis = 1)\n",
        "df1 = df1.drop(['HoF Year'],axis=1)"
      ],
      "metadata": {
        "id": "2_v03WdEWDIE"
      },
      "execution_count": 455,
      "outputs": []
    },
    {
      "cell_type": "code",
      "source": [
        "#Importing libraries from the NBA API\n",
        "from nba_api.stats.endpoints import playercareerstats\n",
        "from nba_api.stats.static import players\n",
        "import numpy as np\n",
        "from nba_api.stats.library.parameters import SeasonAll\n",
        "from bs4 import BeautifulSoup"
      ],
      "metadata": {
        "id": "eJFG_5bxHZwi"
      },
      "execution_count": 456,
      "outputs": []
    },
    {
      "cell_type": "code",
      "source": [
        "# Created a dataframe of the all the basketball players from the NBA API\n",
        "print(\"Data Frame of Basketball Players from the NBA API:\")\n",
        "print(\"\")\n",
        "player_dict = players.get_players()\n",
        "df400 = pandas.DataFrame(player_dict)\n",
        "print(df400)\n",
        "type(df400)"
      ],
      "metadata": {
        "colab": {
          "base_uri": "https://localhost:8080/"
        },
        "id": "i4xMEpQoJv3t",
        "outputId": "43be83a8-ec3c-434b-d762-244cc8a777db"
      },
      "execution_count": 457,
      "outputs": [
        {
          "output_type": "stream",
          "name": "stdout",
          "text": [
            "Data Frame of Basketball Players from the NBA API:\n",
            "\n",
            "           id            full_name first_name     last_name  is_active\n",
            "0       76001       Alaa Abdelnaby       Alaa     Abdelnaby      False\n",
            "1       76002      Zaid Abdul-Aziz       Zaid    Abdul-Aziz      False\n",
            "2       76003  Kareem Abdul-Jabbar     Kareem  Abdul-Jabbar      False\n",
            "3          51   Mahmoud Abdul-Rauf    Mahmoud    Abdul-Rauf      False\n",
            "4        1505    Tariq Abdul-Wahad      Tariq   Abdul-Wahad      False\n",
            "...       ...                  ...        ...           ...        ...\n",
            "4718  1627790           Ante Zizic       Ante         Zizic      False\n",
            "4719    78647             Jim Zoet        Jim          Zoet      False\n",
            "4720    78648            Bill Zopf       Bill          Zopf      False\n",
            "4721  1627826          Ivica Zubac      Ivica         Zubac       True\n",
            "4722    78650           Matt Zunic       Matt         Zunic      False\n",
            "\n",
            "[4723 rows x 5 columns]\n"
          ]
        },
        {
          "output_type": "execute_result",
          "data": {
            "text/plain": [
              "pandas.core.frame.DataFrame"
            ]
          },
          "metadata": {},
          "execution_count": 457
        }
      ]
    },
    {
      "cell_type": "code",
      "source": [
        "#Chose the following columns to use: pos_y (postition), pts_y (total points), all-nba\n",
        "DF2 = df10101.set_index('Name').join(df400.set_index('full_name'))"
      ],
      "metadata": {
        "id": "fFmJp3QdCezw"
      },
      "execution_count": 458,
      "outputs": []
    },
    {
      "cell_type": "code",
      "source": [
        "#Merged dataframe one and dataframe two to get dataframe three\n",
        "print(\"The merge of DF1 and DF2 to get DF3:\")\n",
        "\n",
        "DF3 = [df10101, DF2] #again, df10101 is DF1 (the best version of DF1 I could get (wanted to get rid of the voids/NaNs))\n",
        "result = pandas.concat(DF3)\n",
        "result = result.drop([\"Rank\",  \"id\", \"first_name\", 'last_name', \"is_active\",'Position','Points','Position_y', 'Points_y'], axis=1)\n",
        "print(result.to_string()) #best I could get of a combined dataset\n",
        "print(type(result))"
      ],
      "metadata": {
        "colab": {
          "base_uri": "https://localhost:8080/"
        },
        "id": "a1pb9tMiLmBM",
        "outputId": "103cd681-6de3-41d4-a9be-4c88a8da039a"
      },
      "execution_count": 459,
      "outputs": [
        {
          "output_type": "stream",
          "name": "stdout",
          "text": [
            "The merge of DF1 and DF2 to get DF3:\n",
            "                                        Name Position_x Points_x\n",
            "0                        Kareem Abdul-Jabbar          C    38387\n",
            "1                             Nate Archibald          G    16481\n",
            "2                                Paul Arizin          F    16266\n",
            "3                            Charles Barkley          F    23757\n",
            "4                                 Rick Barry          F    18395\n",
            "5                               Elgin Baylor          F    23149\n",
            "6                                  Dave Bing          G    18327\n",
            "7                                 Larry Bird          F    21791\n",
            "8                           Wilt Chamberlain          C    31419\n",
            "9                                  Bob Cousy          G    16960\n",
            "10                               Dave Cowens          C    13516\n",
            "11                          Billy Cunningham          F    13626\n",
            "12                          Dave DeBusschere          F    14053\n",
            "13                             Clyde Drexler          G    22195\n",
            "14                             Julius Erving          F    18364\n",
            "15                             Patrick Ewing          C    24815\n",
            "16                              Walt Frazier          G    15581\n",
            "17                             George Gervin          G    20708\n",
            "18                                 Hal Greer          G    21586\n",
            "19                             John Havlicek        F/G    26395\n",
            "20                               Elvin Hayes        F/C    27313\n",
            "21                             Magic Johnson          G    17707\n",
            "22                                 Sam Jones          G    15411\n",
            "23                            Michael Jordan          G    32292\n",
            "24                               Jerry Lucas          F    14053\n",
            "25                               Karl Malone          F    36928\n",
            "26                              Moses Malone          C    27409\n",
            "27                             Pete Maravich          G    15948\n",
            "28                              Kevin McHale          F    17335\n",
            "29                              George Mikan          C    10156\n",
            "30                               Earl Monroe          G    17454\n",
            "31                           Hakeem Olajuwon          C    26946\n",
            "32                          Shaquille O'Neal          C    28596\n",
            "33                             Robert Parish          C    23334\n",
            "34                                Bob Pettit          F    20880\n",
            "35                            Scottie Pippen          F    18940\n",
            "36                               Willis Reed        C/F    12183\n",
            "37                           Oscar Robertson          G    26710\n",
            "38                            David Robinson          C    20790\n",
            "39                              Bill Russell          C    14522\n",
            "40                             Dolph Schayes          F    18438\n",
            "41                              Bill Sharman          G    12665\n",
            "42                             John Stockton          G    19711\n",
            "43                              Isiah Thomas          G    18822\n",
            "44                             Nate Thurmond          C    14437\n",
            "45                                Wes Unseld          C    10624\n",
            "46                               Bill Walton          C     6215\n",
            "47                                Jerry West          G    25192\n",
            "48                             Lenny Wilkens          G    17772\n",
            "49                              James Worthy          F    16320\n",
            "50                                 Ray Allen       void     void\n",
            "51                     Giannis Antetokounmpo       void     void\n",
            "52                           Carmelo Anthony       void     void\n",
            "53                               Kobe Bryant       void     void\n",
            "54                             Stephen Curry       void     void\n",
            "55                             Anthony Davis       void     void\n",
            "56                                Tim Duncan       void     void\n",
            "57                              Kevin Durant       void     void\n",
            "58                             Kevin Garnett       void     void\n",
            "59                              James Harden       void     void\n",
            "60                             Allen Iverson       void     void\n",
            "61                              LeBron James       void     void\n",
            "62                                Jason Kidd       void     void\n",
            "63                             Kawhi Leonard       void     void\n",
            "64                            Damian Lillard       void     void\n",
            "65                                Bob McAdoo       void     void\n",
            "66                             Reggie Miller       void     void\n",
            "67                                Steve Nash       void     void\n",
            "68                             Dirk Nowitzki       void     void\n",
            "69                                Chris Paul       void     void\n",
            "70                               Gary Payton       void     void\n",
            "71                               Paul Pierce       void     void\n",
            "72                             Dennis Rodman       void     void\n",
            "73                               Dwyane Wade       void     void\n",
            "74                         Russell Westbrook       void     void\n",
            "75                         Dominique Wilkins       void     void\n",
            "76                      Kareem Abdul-Jabbar*       void     void\n",
            "77                              Karl Malone*       void     void\n",
            "78                             LeBron James^       void     void\n",
            "79                              Kobe Bryant*       void     void\n",
            "80                           Michael Jordan*       void     void\n",
            "81                            Dirk Nowitzki†       void     void\n",
            "82                         Wilt Chamberlain*       void     void\n",
            "83                         Shaquille O'Neal*       void     void\n",
            "84                          Carmelo Anthony^       void     void\n",
            "85                             Moses Malone*       void     void\n",
            "86                              Elvin Hayes*       void     void\n",
            "87                          Hakeem Olajuwon*       void     void\n",
            "88                          Oscar Robertson*       void     void\n",
            "89                        Dominique Wilkins*       void     void\n",
            "90                               Tim Duncan*       void     void\n",
            "91                              Paul Pierce*       void     void\n",
            "92                            John Havlicek*       void     void\n",
            "93                            Kevin Garnett*       void     void\n",
            "94                             Vince Carter†       void     void\n",
            "95                             Alex English*       void     void\n",
            "96                            Reggie Miller*       void     void\n",
            "97                               Jerry West*       void     void\n",
            "98                            Patrick Ewing*       void     void\n",
            "99                             Kevin Durant^       void     void\n",
            "100                               Ray Allen*       void     void\n",
            "101                           Allen Iverson*       void     void\n",
            "102                         Charles Barkley*       void     void\n",
            "103                           Robert Parish*       void     void\n",
            "104                          Adrian Dantley*       void     void\n",
            "105                             Dwyane Wade†       void     void\n",
            "106                            Elgin Baylor*       void     void\n",
            "107                            James Harden^       void     void\n",
            "108                       Russell Westbrook^       void     void\n",
            "109                           Clyde Drexler*       void     void\n",
            "110                             Gary Payton*       void     void\n",
            "111                              Larry Bird*       void     void\n",
            "112                               Hal Greer*       void     void\n",
            "113                            Walt Bellamy*       void     void\n",
            "114                               Pau Gasol†       void     void\n",
            "115                              Bob Pettit*       void     void\n",
            "116                          David Robinson*       void     void\n",
            "117                           George Gervin*       void     void\n",
            "118                          Mitch Richmond*       void     void\n",
            "119                             Joe Johnson§       void     void\n",
            "120                              Chris Paul^       void     void\n",
            "121                       LaMarcus Aldridge^       void     void\n",
            "122                             Tom Chambers       void     void\n",
            "123                           Antawn Jamison       void     void\n",
            "124                           John Stockton*       void     void\n",
            "125                            Bernard King*       void     void\n",
            "Adrian Dantley*                          NaN       void     void\n",
            "Alex English*                            NaN       void     void\n",
            "Allen Iverson                            NaN       void     void\n",
            "Allen Iverson*                           NaN       void     void\n",
            "Antawn Jamison                           NaN       void     void\n",
            "Anthony Davis                            NaN       void     void\n",
            "Bernard King*                            NaN       void     void\n",
            "Bill Russell                             NaN          C    14522\n",
            "Bill Sharman                             NaN          G    12665\n",
            "Bill Walton                              NaN          C     6215\n",
            "Billy Cunningham                         NaN          F    13626\n",
            "Bob Cousy                                NaN          G    16960\n",
            "Bob McAdoo                               NaN       void     void\n",
            "Bob Pettit                               NaN          F    20880\n",
            "Bob Pettit*                              NaN       void     void\n",
            "Carmelo Anthony                          NaN       void     void\n",
            "Carmelo Anthony^                         NaN       void     void\n",
            "Charles Barkley                          NaN          F    23757\n",
            "Charles Barkley*                         NaN       void     void\n",
            "Chris Paul                               NaN       void     void\n",
            "Chris Paul^                              NaN       void     void\n",
            "Clyde Drexler                            NaN          G    22195\n",
            "Clyde Drexler*                           NaN       void     void\n",
            "Damian Lillard                           NaN       void     void\n",
            "Dave Bing                                NaN          G    18327\n",
            "Dave Cowens                              NaN          C    13516\n",
            "Dave DeBusschere                         NaN          F    14053\n",
            "David Robinson                           NaN          C    20790\n",
            "David Robinson*                          NaN       void     void\n",
            "Dennis Rodman                            NaN       void     void\n",
            "Dirk Nowitzki                            NaN       void     void\n",
            "Dirk Nowitzki†                           NaN       void     void\n",
            "Dolph Schayes                            NaN          F    18438\n",
            "Dominique Wilkins                        NaN       void     void\n",
            "Dominique Wilkins*                       NaN       void     void\n",
            "Dwyane Wade                              NaN       void     void\n",
            "Dwyane Wade†                             NaN       void     void\n",
            "Earl Monroe                              NaN          G    17454\n",
            "Elgin Baylor                             NaN          F    23149\n",
            "Elgin Baylor*                            NaN       void     void\n",
            "Elvin Hayes                              NaN        F/C    27313\n",
            "Elvin Hayes*                             NaN       void     void\n",
            "Gary Payton                              NaN       void     void\n",
            "Gary Payton*                             NaN       void     void\n",
            "George Gervin                            NaN          G    20708\n",
            "George Gervin*                           NaN       void     void\n",
            "George Mikan                             NaN          C    10156\n",
            "Giannis Antetokounmpo                    NaN       void     void\n",
            "Hakeem Olajuwon                          NaN          C    26946\n",
            "Hakeem Olajuwon*                         NaN       void     void\n",
            "Hal Greer                                NaN          G    21586\n",
            "Hal Greer*                               NaN       void     void\n",
            "Isiah Thomas                             NaN          G    18822\n",
            "James Harden                             NaN       void     void\n",
            "James Harden^                            NaN       void     void\n",
            "James Worthy                             NaN          F    16320\n",
            "Jason Kidd                               NaN       void     void\n",
            "Jerry Lucas                              NaN          F    14053\n",
            "Jerry West                               NaN          G    25192\n",
            "Jerry West*                              NaN       void     void\n",
            "Joe Johnson§                             NaN       void     void\n",
            "John Havlicek                            NaN        F/G    26395\n",
            "John Havlicek*                           NaN       void     void\n",
            "John Stockton                            NaN          G    19711\n",
            "John Stockton*                           NaN       void     void\n",
            "Julius Erving                            NaN          F    18364\n",
            "Kareem Abdul-Jabbar                      NaN          C    38387\n",
            "Kareem Abdul-Jabbar*                     NaN       void     void\n",
            "Karl Malone                              NaN          F    36928\n",
            "Karl Malone*                             NaN       void     void\n",
            "Kawhi Leonard                            NaN       void     void\n",
            "Kevin Durant                             NaN       void     void\n",
            "Kevin Durant^                            NaN       void     void\n",
            "Kevin Garnett                            NaN       void     void\n",
            "Kevin Garnett*                           NaN       void     void\n",
            "Kevin McHale                             NaN          F    17335\n",
            "Kobe Bryant                              NaN       void     void\n",
            "Kobe Bryant*                             NaN       void     void\n",
            "LaMarcus Aldridge^                       NaN       void     void\n",
            "Larry Bird                               NaN          F    21791\n",
            "Larry Bird*                              NaN       void     void\n",
            "LeBron James                             NaN       void     void\n",
            "LeBron James^                            NaN       void     void\n",
            "Lenny Wilkens                            NaN          G    17772\n",
            "Magic Johnson                            NaN          G    17707\n",
            "Michael Jordan                           NaN          G    32292\n",
            "Michael Jordan*                          NaN       void     void\n",
            "Mitch Richmond*                          NaN       void     void\n",
            "Moses Malone                             NaN          C    27409\n",
            "Moses Malone*                            NaN       void     void\n",
            "Nate Archibald                           NaN          G    16481\n",
            "Nate Thurmond                            NaN          C    14437\n",
            "Oscar Robertson                          NaN          G    26710\n",
            "Oscar Robertson*                         NaN       void     void\n",
            "Patrick Ewing                            NaN          C    24815\n",
            "Patrick Ewing                            NaN          C    24815\n",
            "Patrick Ewing*                           NaN       void     void\n",
            "Pau Gasol†                               NaN       void     void\n",
            "Paul Arizin                              NaN          F    16266\n",
            "Paul Pierce                              NaN       void     void\n",
            "Paul Pierce*                             NaN       void     void\n",
            "Pete Maravich                            NaN          G    15948\n",
            "Ray Allen                                NaN       void     void\n",
            "Ray Allen*                               NaN       void     void\n",
            "Reggie Miller                            NaN       void     void\n",
            "Reggie Miller*                           NaN       void     void\n",
            "Rick Barry                               NaN          F    18395\n",
            "Robert Parish                            NaN          C    23334\n",
            "Robert Parish*                           NaN       void     void\n",
            "Russell Westbrook                        NaN       void     void\n",
            "Russell Westbrook^                       NaN       void     void\n",
            "Sam Jones                                NaN          G    15411\n",
            "Scottie Pippen                           NaN          F    18940\n",
            "Shaquille O'Neal                         NaN          C    28596\n",
            "Shaquille O'Neal*                        NaN       void     void\n",
            "Stephen Curry                            NaN       void     void\n",
            "Steve Nash                               NaN       void     void\n",
            "Tim Duncan                               NaN       void     void\n",
            "Tim Duncan*                              NaN       void     void\n",
            "Tom Chambers                             NaN       void     void\n",
            "Vince Carter†                            NaN       void     void\n",
            "Walt Bellamy*                            NaN       void     void\n",
            "Walt Frazier                             NaN          G    15581\n",
            "Wes Unseld                               NaN          C    10624\n",
            "Willis Reed                              NaN        C/F    12183\n",
            "Wilt Chamberlain                         NaN          C    31419\n",
            "Wilt Chamberlain*                        NaN       void     void\n",
            "<class 'pandas.core.frame.DataFrame'>\n"
          ]
        }
      ]
    },
    {
      "cell_type": "code",
      "source": [
        "newAnswer = result.head(10)\n",
        "print(newAnswer)"
      ],
      "metadata": {
        "colab": {
          "base_uri": "https://localhost:8080/"
        },
        "id": "FXvy5lKnRMVc",
        "outputId": "ff17a9b4-d00a-4118-e6a7-c1e57d62b30b"
      },
      "execution_count": 460,
      "outputs": [
        {
          "output_type": "stream",
          "name": "stdout",
          "text": [
            "                  Name Position_x Points_x\n",
            "0  Kareem Abdul-Jabbar          C    38387\n",
            "1       Nate Archibald          G    16481\n",
            "2          Paul Arizin          F    16266\n",
            "3      Charles Barkley          F    23757\n",
            "4           Rick Barry          F    18395\n",
            "5         Elgin Baylor          F    23149\n",
            "6            Dave Bing          G    18327\n",
            "7           Larry Bird          F    21791\n",
            "8     Wilt Chamberlain          C    31419\n",
            "9            Bob Cousy          G    16960\n"
          ]
        }
      ]
    },
    {
      "cell_type": "code",
      "source": [
        "#Description statistics for dataframe three\n",
        "print(\"The description statistics of DF3:\")\n",
        "print(\"\")\n",
        "print(newAnswer.describe().to_string())"
      ],
      "metadata": {
        "colab": {
          "base_uri": "https://localhost:8080/"
        },
        "id": "V7oNdFa2LmL6",
        "outputId": "fe3fe48a-2a6d-4f33-c8e8-6124a852b5f8"
      },
      "execution_count": 461,
      "outputs": [
        {
          "output_type": "stream",
          "name": "stdout",
          "text": [
            "The description statistics of DF3:\n",
            "\n",
            "                   Name Position_x  Points_x\n",
            "count                10         10      10.0\n",
            "unique               10          3      10.0\n",
            "top     Charles Barkley          F   21791.0\n",
            "freq                  1          5       1.0\n"
          ]
        }
      ]
    },
    {
      "cell_type": "code",
      "source": [
        "#Converting dataframe three to a CSV file\n",
        "newAnswer.to_csv('CombinedDataDF3.csv')"
      ],
      "metadata": {
        "id": "s7TaqN8_LmOA"
      },
      "execution_count": 462,
      "outputs": []
    },
    {
      "cell_type": "code",
      "source": [
        "import matplotlib.pyplot as plt\n",
        "   \n",
        "data = {'All-NBA Titles': [15,5,4,11,6,10,3,10,10,12],\n",
        "        'Total Points': [38387,16481,16266,23757,18395,23149,18327,21791,31419,16960]\n",
        "       }\n",
        "  \n",
        "dfr = pandas.DataFrame(data,columns=['All-NBA Titles','Total Points'])\n",
        "dfr.plot(x ='All-NBA Titles', y='Total Points', kind = 'scatter')\n",
        "plt.title('Do more All-NBA titles always mean more NBA points?')\n",
        "plt.show()"
      ],
      "metadata": {
        "colab": {
          "base_uri": "https://localhost:8080/",
          "height": 296
        },
        "id": "EtJXqYbqLmTQ",
        "outputId": "15a4d164-42be-4966-b37a-76e82dae810f"
      },
      "execution_count": 463,
      "outputs": [
        {
          "output_type": "display_data",
          "data": {
            "image/png": "[encoded data removed]",
            "text/plain": [
              "<Figure size 432x288 with 1 Axes>"
            ]
          },
          "metadata": {
            "needs_background": "light"
          }
        }
      ]
    },
    {
      "cell_type": "code",
      "source": [
        "# Look at index 4 and 6, which demonstrate overlapping cases.\n",
        "x1 = ['C','F','G','More than one']\n",
        "y1 = [69806, 40023, 348808, 53708]\n",
        "\n",
        "# Colors: https://matplotlib.org/api/colors_api.html\n",
        "\n",
        "plt.bar(x1, y1, label=\"Blue Bar\", color='b')\n",
        "plt.plot()\n",
        "\n",
        "plt.xlabel(\"Position\")\n",
        "plt.ylabel(\"Total Points\")\n",
        "plt.title(\"Collectivelly, what NBA position makes the most points?\")\n",
        "plt.legend()\n",
        "plt.show()"
      ],
      "metadata": {
        "colab": {
          "base_uri": "https://localhost:8080/",
          "height": 296
        },
        "id": "iHufVh9ndmHl",
        "outputId": "70d9b335-6cc3-41e4-8b3a-9f634cff37fb"
      },
      "execution_count": 464,
      "outputs": [
        {
          "output_type": "display_data",
          "data": {
            "image/png": "[encoded data removed]",
            "text/plain": [
              "<Figure size 432x288 with 1 Axes>"
            ]
          },
          "metadata": {
            "needs_background": "light"
          }
        }
      ]
    },
    {
      "cell_type": "code",
      "source": [
        "labels = 'C', 'F', 'G'\n",
        "sections = [56, 66, 24]\n",
        "colors = ['c', 'g', 'y']\n",
        "\n",
        "plt.pie(sections, labels=labels, colors=colors,\n",
        "        startangle=90,\n",
        "        explode = (0, 0.1, 0),\n",
        "        autopct = '%1.2f%%')\n",
        "\n",
        "plt.axis('equal') # Try commenting this out.\n",
        "plt.title('Of all the positions, which has highest amount of NBA players within the top 50 all-time?')\n",
        "plt.show()"
      ],
      "metadata": {
        "colab": {
          "base_uri": "https://localhost:8080/",
          "height": 264
        },
        "id": "gFaAkIW6jl1J",
        "outputId": "ccb4495e-f483-459a-a4d4-078b5ca2bd62"
      },
      "execution_count": 465,
      "outputs": [
        {
          "output_type": "display_data",
          "data": {
            "image/png": "[encoded data removed]",
            "text/plain": [
              "<Figure size 432x288 with 1 Axes>"
            ]
          },
          "metadata": {}
        }
      ]
    }
  ]
}